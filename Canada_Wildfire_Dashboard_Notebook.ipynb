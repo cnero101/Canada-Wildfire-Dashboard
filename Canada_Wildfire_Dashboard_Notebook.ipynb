{
 "cells": [
  {
   "cell_type": "markdown",
   "id": "9548239f",
   "metadata": {},
   "source": [
    "# 🔥 Canada Wildfire GIS Dashboard (Jupyter)"
   ]
  },
  {
   "cell_type": "code",
   "execution_count": null,
   "id": "0277eb53",
   "metadata": {},
   "outputs": [],
   "source": [
    "import geopandas as gpd\n",
    "import folium\n",
    "from folium.plugins import MarkerCluster\n",
    "from branca.colormap import linear\n",
    "import matplotlib.pyplot as plt\n",
    "import pandas as pd"
   ]
  },
  {
   "cell_type": "code",
   "execution_count": null,
   "id": "89c46ed7",
   "metadata": {},
   "outputs": [],
   "source": [
    "gdf = gpd.read_file('firms_canada_latest.geojson')\n",
    "gdf['acq_date'] = pd.to_datetime(gdf['acq_date'])\n",
    "gdf = gdf.to_crs(epsg=4326)"
   ]
  },
  {
   "cell_type": "code",
   "execution_count": null,
   "id": "ee2d3032",
   "metadata": {},
   "outputs": [],
   "source": [
    "m = folium.Map(location=[56, -106], zoom_start=5, tiles='CartoDB dark_matter')\n",
    "marker_cluster = MarkerCluster().add_to(m)\n",
    "colormap = linear.OrRd_09.scale(gdf['bright_ti4'].min(), gdf['bright_ti4'].max())\n",
    "for _, row in gdf.iterrows():\n",
    "    folium.CircleMarker(location=[row['latitude'], row['longitude']], radius=5,\n",
    "        color=colormap(row['bright_ti4']), fill=True, fill_opacity=0.7,\n",
    "        tooltip=f\"{row['acq_date'].date()} | Bright: {row['bright_ti4']} | {row['confidence']}\").add_to(marker_cluster)\n",
    "colormap.add_to(m)\n",
    "m"
   ]
  },
  {
   "cell_type": "code",
   "execution_count": null,
   "id": "0cc32d08",
   "metadata": {},
   "outputs": [],
   "source": [
    "print(f'Total Fires: {len(gdf)}')\n",
    "print(f'Max Brightness: {gdf.bright_ti4.max()}')"
   ]
  },
  {
   "cell_type": "code",
   "execution_count": null,
   "id": "a38c6a68",
   "metadata": {},
   "outputs": [],
   "source": [
    "gdf['confidence'].value_counts().plot.pie(autopct='%1.1f%%', title='Confidence Level')\n",
    "plt.show()"
   ]
  }
 ],
 "metadata": {},
 "nbformat": 4,
 "nbformat_minor": 5
}
